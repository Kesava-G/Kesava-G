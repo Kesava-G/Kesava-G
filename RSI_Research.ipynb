{
  "cells": [
    {
      "cell_type": "markdown",
      "metadata": {
        "id": "view-in-github",
        "colab_type": "text"
      },
      "source": [
        "<a href=\"https://colab.research.google.com/github/Kesava-G/Kesava-G/blob/main/RSI_Research.ipynb\" target=\"_parent\"><img src=\"https://colab.research.google.com/assets/colab-badge.svg\" alt=\"Open In Colab\"/></a>"
      ]
    },
    {
      "cell_type": "code",
      "execution_count": null,
      "metadata": {
        "id": "MrPHoefXZm24"
      },
      "outputs": [],
      "source": [
        "!pip install yahoo_fin\n",
        "!pip install pandas\n",
        "!pip install ta\n",
        "!pip install numpy"
      ]
    },
    {
      "cell_type": "code",
      "execution_count": null,
      "metadata": {
        "id": "3L1IMuKWecxd"
      },
      "outputs": [],
      "source": [
        "import yahoo_fin.stock_info as yf\n",
        "import pandas as pd\n",
        "from ta import add_all_ta_features\n",
        "from ta.momentum import RSIIndicator\n",
        "from datetime import datetime\n",
        "import numpy as np"
      ]
    },
    {
      "cell_type": "code",
      "execution_count": null,
      "metadata": {
        "id": "Ad_0fG_6hNoP"
      },
      "outputs": [],
      "source": [
        "data = yf.get_data(\"aapl\")"
      ]
    },
    {
      "cell_type": "code",
      "execution_count": null,
      "metadata": {
        "id": "jAnt4UiwexC7"
      },
      "outputs": [],
      "source": [
        "#Get all technical indicators\n",
        "rsi_14 = RSIIndicator(close=data.close, window=14)\n",
        "data['RSI_14_days'] = rsi_14.rsi()"
      ]
    },
    {
      "cell_type": "code",
      "execution_count": null,
      "metadata": {
        "id": "q15vu2f-fR4a"
      },
      "outputs": [],
      "source": [
        "#Buy when it is below 30 & Sell when its above 70\n",
        "data = data.iloc[13:][:]"
      ]
    },
    {
      "cell_type": "code",
      "execution_count": null,
      "metadata": {
        "id": "fKRXzOO_tEWe"
      },
      "outputs": [],
      "source": [
        "#Function to indicate close price to buy and sell\n",
        "def buy_sell(dataframe):\n",
        "  Buy= []\n",
        "  Sell = []\n",
        "  flag = -1\n",
        "  for i in range(0, len(dataframe)):\n",
        "    if dataframe['RSI_14_days'][i]<30:\n",
        "      Sell.append(np.nan)\n",
        "      if flag != 1:\n",
        "        Buy.append(dataframe['close'][i])\n",
        "        flag = 1\n",
        "      else:\n",
        "        Buy.append(np.nan)\n",
        "    elif dataframe['RSI_14_days'][i]>70:\n",
        "      Buy.append(np.nan)\n",
        "      if flag != 0:\n",
        "        Sell.append(dataframe['close'][i])\n",
        "        flag = 0\n",
        "      else:\n",
        "        Sell.append(np.nan)\n",
        "    else:\n",
        "      Buy.append(np.nan)\n",
        "      Sell.append(np.nan)\n",
        "  return (Buy, Sell)"
      ]
    },
    {
      "cell_type": "code",
      "execution_count": null,
      "metadata": {
        "colab": {
          "base_uri": "https://localhost:8080/",
          "height": 1000
        },
        "id": "rXlwHgvkuyuh",
        "outputId": "4460241c-8188-476b-a3ac-08c950e139c4"
      },
      "outputs": [
        {
          "output_type": "execute_result",
          "data": {
            "text/html": [
              "<style  type=\"text/css\" >\n",
              "</style><table id=\"T_e5bb6e3a_60da_11ec_8b20_0242ac1c0002\" class=\"dataframe\"><thead>    <tr>        <th class=\"col_heading level0 col0\" >Trade</th>        <th class=\"col_heading level0 col1\" >Profit</th>    </tr></thead><tbody>\n",
              "                <tr>\n",
              "                                <td id=\"T_e5bb6e3a_60da_11ec_8b20_0242ac1c0002row0_col0\" class=\"data row0 col0\" >1</td>\n",
              "                        <td id=\"T_e5bb6e3a_60da_11ec_8b20_0242ac1c0002row0_col1\" class=\"data row0 col1\" >0.043527</td>\n",
              "            </tr>\n",
              "            <tr>\n",
              "                                <td id=\"T_e5bb6e3a_60da_11ec_8b20_0242ac1c0002row1_col0\" class=\"data row1 col0\" >2</td>\n",
              "                        <td id=\"T_e5bb6e3a_60da_11ec_8b20_0242ac1c0002row1_col1\" class=\"data row1 col1\" >-0.013950</td>\n",
              "            </tr>\n",
              "            <tr>\n",
              "                                <td id=\"T_e5bb6e3a_60da_11ec_8b20_0242ac1c0002row2_col0\" class=\"data row2 col0\" >3</td>\n",
              "                        <td id=\"T_e5bb6e3a_60da_11ec_8b20_0242ac1c0002row2_col1\" class=\"data row2 col1\" >-0.005581</td>\n",
              "            </tr>\n",
              "            <tr>\n",
              "                                <td id=\"T_e5bb6e3a_60da_11ec_8b20_0242ac1c0002row3_col0\" class=\"data row3 col0\" >4</td>\n",
              "                        <td id=\"T_e5bb6e3a_60da_11ec_8b20_0242ac1c0002row3_col1\" class=\"data row3 col1\" >-0.084822</td>\n",
              "            </tr>\n",
              "            <tr>\n",
              "                                <td id=\"T_e5bb6e3a_60da_11ec_8b20_0242ac1c0002row4_col0\" class=\"data row4 col0\" >5</td>\n",
              "                        <td id=\"T_e5bb6e3a_60da_11ec_8b20_0242ac1c0002row4_col1\" class=\"data row4 col1\" >-0.021206</td>\n",
              "            </tr>\n",
              "            <tr>\n",
              "                                <td id=\"T_e5bb6e3a_60da_11ec_8b20_0242ac1c0002row5_col0\" class=\"data row5 col0\" >6</td>\n",
              "                        <td id=\"T_e5bb6e3a_60da_11ec_8b20_0242ac1c0002row5_col1\" class=\"data row5 col1\" >0.089286</td>\n",
              "            </tr>\n",
              "            <tr>\n",
              "                                <td id=\"T_e5bb6e3a_60da_11ec_8b20_0242ac1c0002row6_col0\" class=\"data row6 col0\" >7</td>\n",
              "                        <td id=\"T_e5bb6e3a_60da_11ec_8b20_0242ac1c0002row6_col1\" class=\"data row6 col1\" >0.008929</td>\n",
              "            </tr>\n",
              "            <tr>\n",
              "                                <td id=\"T_e5bb6e3a_60da_11ec_8b20_0242ac1c0002row7_col0\" class=\"data row7 col0\" >8</td>\n",
              "                        <td id=\"T_e5bb6e3a_60da_11ec_8b20_0242ac1c0002row7_col1\" class=\"data row7 col1\" >0.010045</td>\n",
              "            </tr>\n",
              "            <tr>\n",
              "                                <td id=\"T_e5bb6e3a_60da_11ec_8b20_0242ac1c0002row8_col0\" class=\"data row8 col0\" >9</td>\n",
              "                        <td id=\"T_e5bb6e3a_60da_11ec_8b20_0242ac1c0002row8_col1\" class=\"data row8 col1\" >0.055804</td>\n",
              "            </tr>\n",
              "            <tr>\n",
              "                                <td id=\"T_e5bb6e3a_60da_11ec_8b20_0242ac1c0002row9_col0\" class=\"data row9 col0\" >10</td>\n",
              "                        <td id=\"T_e5bb6e3a_60da_11ec_8b20_0242ac1c0002row9_col1\" class=\"data row9 col1\" >0.020089</td>\n",
              "            </tr>\n",
              "            <tr>\n",
              "                                <td id=\"T_e5bb6e3a_60da_11ec_8b20_0242ac1c0002row10_col0\" class=\"data row10 col0\" >11</td>\n",
              "                        <td id=\"T_e5bb6e3a_60da_11ec_8b20_0242ac1c0002row10_col1\" class=\"data row10 col1\" >0.051340</td>\n",
              "            </tr>\n",
              "            <tr>\n",
              "                                <td id=\"T_e5bb6e3a_60da_11ec_8b20_0242ac1c0002row11_col0\" class=\"data row11 col0\" >12</td>\n",
              "                        <td id=\"T_e5bb6e3a_60da_11ec_8b20_0242ac1c0002row11_col1\" class=\"data row11 col1\" >-0.125000</td>\n",
              "            </tr>\n",
              "            <tr>\n",
              "                                <td id=\"T_e5bb6e3a_60da_11ec_8b20_0242ac1c0002row12_col0\" class=\"data row12 col0\" >13</td>\n",
              "                        <td id=\"T_e5bb6e3a_60da_11ec_8b20_0242ac1c0002row12_col1\" class=\"data row12 col1\" >0.019531</td>\n",
              "            </tr>\n",
              "            <tr>\n",
              "                                <td id=\"T_e5bb6e3a_60da_11ec_8b20_0242ac1c0002row13_col0\" class=\"data row13 col0\" >14</td>\n",
              "                        <td id=\"T_e5bb6e3a_60da_11ec_8b20_0242ac1c0002row13_col1\" class=\"data row13 col1\" >0.077009</td>\n",
              "            </tr>\n",
              "            <tr>\n",
              "                                <td id=\"T_e5bb6e3a_60da_11ec_8b20_0242ac1c0002row14_col0\" class=\"data row14 col0\" >15</td>\n",
              "                        <td id=\"T_e5bb6e3a_60da_11ec_8b20_0242ac1c0002row14_col1\" class=\"data row14 col1\" >0.050223</td>\n",
              "            </tr>\n",
              "            <tr>\n",
              "                                <td id=\"T_e5bb6e3a_60da_11ec_8b20_0242ac1c0002row15_col0\" class=\"data row15 col0\" >16</td>\n",
              "                        <td id=\"T_e5bb6e3a_60da_11ec_8b20_0242ac1c0002row15_col1\" class=\"data row15 col1\" >-0.116629</td>\n",
              "            </tr>\n",
              "            <tr>\n",
              "                                <td id=\"T_e5bb6e3a_60da_11ec_8b20_0242ac1c0002row16_col0\" class=\"data row16 col0\" >17</td>\n",
              "                        <td id=\"T_e5bb6e3a_60da_11ec_8b20_0242ac1c0002row16_col1\" class=\"data row16 col1\" >0.021206</td>\n",
              "            </tr>\n",
              "            <tr>\n",
              "                                <td id=\"T_e5bb6e3a_60da_11ec_8b20_0242ac1c0002row17_col0\" class=\"data row17 col0\" >18</td>\n",
              "                        <td id=\"T_e5bb6e3a_60da_11ec_8b20_0242ac1c0002row17_col1\" class=\"data row17 col1\" >-0.035535</td>\n",
              "            </tr>\n",
              "            <tr>\n",
              "                                <td id=\"T_e5bb6e3a_60da_11ec_8b20_0242ac1c0002row18_col0\" class=\"data row18 col0\" >19</td>\n",
              "                        <td id=\"T_e5bb6e3a_60da_11ec_8b20_0242ac1c0002row18_col1\" class=\"data row18 col1\" >-0.063750</td>\n",
              "            </tr>\n",
              "            <tr>\n",
              "                                <td id=\"T_e5bb6e3a_60da_11ec_8b20_0242ac1c0002row19_col0\" class=\"data row19 col0\" >20</td>\n",
              "                        <td id=\"T_e5bb6e3a_60da_11ec_8b20_0242ac1c0002row19_col1\" class=\"data row19 col1\" >0.280000</td>\n",
              "            </tr>\n",
              "            <tr>\n",
              "                                <td id=\"T_e5bb6e3a_60da_11ec_8b20_0242ac1c0002row20_col0\" class=\"data row20 col0\" >21</td>\n",
              "                        <td id=\"T_e5bb6e3a_60da_11ec_8b20_0242ac1c0002row20_col1\" class=\"data row20 col1\" >0.330357</td>\n",
              "            </tr>\n",
              "            <tr>\n",
              "                                <td id=\"T_e5bb6e3a_60da_11ec_8b20_0242ac1c0002row21_col0\" class=\"data row21 col0\" >22</td>\n",
              "                        <td id=\"T_e5bb6e3a_60da_11ec_8b20_0242ac1c0002row21_col1\" class=\"data row21 col1\" >0.600714</td>\n",
              "            </tr>\n",
              "            <tr>\n",
              "                                <td id=\"T_e5bb6e3a_60da_11ec_8b20_0242ac1c0002row22_col0\" class=\"data row22 col0\" >23</td>\n",
              "                        <td id=\"T_e5bb6e3a_60da_11ec_8b20_0242ac1c0002row22_col1\" class=\"data row22 col1\" >-1.572143</td>\n",
              "            </tr>\n",
              "            <tr>\n",
              "                                <td id=\"T_e5bb6e3a_60da_11ec_8b20_0242ac1c0002row23_col0\" class=\"data row23 col0\" >24</td>\n",
              "                        <td id=\"T_e5bb6e3a_60da_11ec_8b20_0242ac1c0002row23_col1\" class=\"data row23 col1\" >-4.080715</td>\n",
              "            </tr>\n",
              "            <tr>\n",
              "                                <td id=\"T_e5bb6e3a_60da_11ec_8b20_0242ac1c0002row24_col0\" class=\"data row24 col0\" >25</td>\n",
              "                        <td id=\"T_e5bb6e3a_60da_11ec_8b20_0242ac1c0002row24_col1\" class=\"data row24 col1\" >-3.337500</td>\n",
              "            </tr>\n",
              "            <tr>\n",
              "                                <td id=\"T_e5bb6e3a_60da_11ec_8b20_0242ac1c0002row25_col0\" class=\"data row25 col0\" >26</td>\n",
              "                        <td id=\"T_e5bb6e3a_60da_11ec_8b20_0242ac1c0002row25_col1\" class=\"data row25 col1\" >2.057501</td>\n",
              "            </tr>\n",
              "            <tr>\n",
              "                                <td id=\"T_e5bb6e3a_60da_11ec_8b20_0242ac1c0002row26_col0\" class=\"data row26 col0\" >27</td>\n",
              "                        <td id=\"T_e5bb6e3a_60da_11ec_8b20_0242ac1c0002row26_col1\" class=\"data row26 col1\" >2.537500</td>\n",
              "            </tr>\n",
              "            <tr>\n",
              "                                <td id=\"T_e5bb6e3a_60da_11ec_8b20_0242ac1c0002row27_col0\" class=\"data row27 col0\" >28</td>\n",
              "                        <td id=\"T_e5bb6e3a_60da_11ec_8b20_0242ac1c0002row27_col1\" class=\"data row27 col1\" >6.715000</td>\n",
              "            </tr>\n",
              "            <tr>\n",
              "                                <td id=\"T_e5bb6e3a_60da_11ec_8b20_0242ac1c0002row28_col0\" class=\"data row28 col0\" >29</td>\n",
              "                        <td id=\"T_e5bb6e3a_60da_11ec_8b20_0242ac1c0002row28_col1\" class=\"data row28 col1\" >1.182503</td>\n",
              "            </tr>\n",
              "            <tr>\n",
              "                                <td id=\"T_e5bb6e3a_60da_11ec_8b20_0242ac1c0002row29_col0\" class=\"data row29 col0\" >30</td>\n",
              "                        <td id=\"T_e5bb6e3a_60da_11ec_8b20_0242ac1c0002row29_col1\" class=\"data row29 col1\" >16.359997</td>\n",
              "            </tr>\n",
              "            <tr>\n",
              "                                <td id=\"T_e5bb6e3a_60da_11ec_8b20_0242ac1c0002row30_col0\" class=\"data row30 col0\" >31</td>\n",
              "                        <td id=\"T_e5bb6e3a_60da_11ec_8b20_0242ac1c0002row30_col1\" class=\"data row30 col1\" >14.495003</td>\n",
              "            </tr>\n",
              "            <tr>\n",
              "                                <td id=\"T_e5bb6e3a_60da_11ec_8b20_0242ac1c0002row31_col0\" class=\"data row31 col0\" >32</td>\n",
              "                        <td id=\"T_e5bb6e3a_60da_11ec_8b20_0242ac1c0002row31_col1\" class=\"data row31 col1\" >15.970009</td>\n",
              "            </tr>\n",
              "    </tbody></table>"
            ],
            "text/plain": [
              "<pandas.io.formats.style.Styler at 0x7fcbb6214b50>"
            ]
          },
          "metadata": {},
          "execution_count": 7
        }
      ],
      "source": [
        "#buy and sell signals\n",
        "b = buy_sell(data)\n",
        "data['Buy'] = b[0]\n",
        "data[\"Sell\"] = b[1]\n",
        "BuyFilter = list(filter(lambda x: not pd.isna(x), data['Buy']))\n",
        "SellFilter = list(filter(lambda x: not pd.isna(x), data['Sell']))\n",
        "if len(BuyFilter) > len(SellFilter):\n",
        "  del BuyFilter[-1]\n",
        "if len(SellFilter) > len(BuyFilter):\n",
        "  del SellFilter[-1]\n",
        "#create profit data frame\n",
        "profitfortrade = {'Trade':[], \"Profit\":[]}\n",
        "for trade in range(len(SellFilter)): \n",
        "  profitfortrade['Trade'].append(trade+1)\n",
        "  profitfortrade['Profit'].append(SellFilter[trade]-BuyFilter[trade])\n",
        "profitfortrade = pd.DataFrame(data=profitfortrade)\n",
        "profitfortrade = profitfortrade.style.hide_index()\n",
        "profitfortrade"
      ]
    }
  ],
  "metadata": {
    "colab": {
      "provenance": [],
      "include_colab_link": true
    },
    "kernelspec": {
      "display_name": "Python 3",
      "name": "python3"
    },
    "language_info": {
      "name": "python"
    }
  },
  "nbformat": 4,
  "nbformat_minor": 0
}